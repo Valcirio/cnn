{
 "cells": [
  {
   "cell_type": "code",
   "execution_count": 1,
   "metadata": {},
   "outputs": [
    {
     "data": {
      "text/plain": [
       "'2.3.1+cpu'"
      ]
     },
     "execution_count": 1,
     "metadata": {},
     "output_type": "execute_result"
    }
   ],
   "source": [
    "import torch\n",
    "from torch import nn, optim\n",
    "from torchvision import datasets, transforms\n",
    "import torch.nn.functional as F \n",
    "import matplotlib.pyplot as plt\n",
    "import numpy as np\n",
    "torch.__version__"
   ]
  },
  {
   "cell_type": "code",
   "execution_count": null,
   "metadata": {},
   "outputs": [],
   "source": [
    "torchSeed = 10\n",
    "torch.manual_seed(torchSeed)"
   ]
  },
  {
   "cell_type": "code",
   "execution_count": 7,
   "metadata": {},
   "outputs": [],
   "source": [
    "transformTrain = transforms.Compose(\n",
    "    [\n",
    "        transforms.Resize([64, 64]),\n",
    "        transforms.ToTensor()\n",
    "    ]\n",
    ")"
   ]
  },
  {
   "cell_type": "code",
   "execution_count": 44,
   "metadata": {},
   "outputs": [],
   "source": [
    "dirPathTrain = r\"C:\\Users\\terce\\Documents\\IC - Ultrasom\\code\\gans_data\"\n",
    "trainDataset = datasets.ImageFolder(dirPathTrain,  transform=transformTrain)\n",
    "trainLoader = torch.utils.data.DataLoader(trainDataset , batch_size=24, shuffle=True)"
   ]
  },
  {
   "cell_type": "markdown",
   "metadata": {},
   "source": [
    "## Classe da Rede Neural GAN (Gerador)"
   ]
  },
  {
   "cell_type": "code",
   "execution_count": 49,
   "metadata": {},
   "outputs": [],
   "source": [
    "class Generate(nn.Module):\n",
    "    def __init__(self):\n",
    "        super().__init__()\n",
    "    \n",
    "        self.linear1 = nn.Linear(100, 32)\n",
    "        self.linear2 = nn.Linear(32, 64)\n",
    "        self.linear3 = nn.Linear(64, 128)\n",
    "        self.linear4 = nn.Linear(128, 4096)\n",
    "        self.dropout = nn.Dropout(0.3)\n",
    "\n",
    "    def forward(self, x):\n",
    "        x = self.dropout(F.leaky_relu(self.linear1(x), 0.2))\n",
    "        x = self.dropout(F.leaky_relu(self.linear2(x), 0.2))\n",
    "        x = self.dropout(F.leaky_relu(self.linear3(x), 0.2))\n",
    "        x = torch.tanh(self.linear4(x))\n",
    "        x = x.view(x.shape[0], 64*64)\n",
    "        return x"
   ]
  },
  {
   "cell_type": "markdown",
   "metadata": {},
   "source": [
    "## Classe da Rede Neural GAN (Discriminador)"
   ]
  },
  {
   "cell_type": "code",
   "execution_count": 50,
   "metadata": {},
   "outputs": [],
   "source": [
    "class Discriminate(nn.Module):\n",
    "    def __init__(self):\n",
    "        super().__init__()\n",
    "\n",
    "        self.linear1 = nn.Linear(4096, 128)\n",
    "        self.linear2 = nn.Linear(128, 64)\n",
    "        self.linear3 = nn.Linear(64, 32)\n",
    "        self.linear4 = nn.Linear(32, 1)\n",
    "        self.dropout = nn.Dropout(0.3)\n",
    "\n",
    "    def forward(self, x):\n",
    "        x = x.view(x.shape[0], 64*64)\n",
    "        x = self.dropout(F.leaky_relu(self.linear1(x), 0.2))\n",
    "        x = self.dropout(F.leaky_relu(self.linear2(x), 0.2))\n",
    "        x = self.dropout(F.leaky_relu(self.linear3(x), 0.2))\n",
    "        x = self.linear4(x)\n",
    "        return x"
   ]
  },
  {
   "cell_type": "code",
   "execution_count": 51,
   "metadata": {},
   "outputs": [],
   "source": [
    "modelGenerate = Generate()\n",
    "modelDiscriminate = Discriminate()"
   ]
  },
  {
   "cell_type": "code",
   "execution_count": 52,
   "metadata": {},
   "outputs": [],
   "source": [
    "mGenOptimizer = optim.Adam(modelGenerate.parameters(), lr=0.001)\n",
    "mDisOptimizer = optim.Adam(modelDiscriminate.parameters(), lr=0.001)\n",
    "\n",
    "criterion = nn.BCEWithLogitsLoss()"
   ]
  },
  {
   "cell_type": "code",
   "execution_count": 53,
   "metadata": {},
   "outputs": [
    {
     "data": {
      "text/plain": [
       "Discriminate(\n",
       "  (linear1): Linear(in_features=4096, out_features=128, bias=True)\n",
       "  (linear2): Linear(in_features=128, out_features=64, bias=True)\n",
       "  (linear3): Linear(in_features=64, out_features=32, bias=True)\n",
       "  (linear4): Linear(in_features=32, out_features=1, bias=True)\n",
       "  (dropout): Dropout(p=0.3, inplace=False)\n",
       ")"
      ]
     },
     "execution_count": 53,
     "metadata": {},
     "output_type": "execute_result"
    }
   ],
   "source": [
    "device = torch.device('cpu')\n",
    "modelGenerate.to(device)\n",
    "modelDiscriminate.to(device)"
   ]
  },
  {
   "cell_type": "code",
   "execution_count": null,
   "metadata": {},
   "outputs": [],
   "source": [
    "for epoch in range(15):\n",
    "    GenLoss, DisLoss = 0., 0.\n",
    "\n",
    "    for i, data in enumerate(trainLoader):\n",
    "        \n",
    "        inputs, _ = data\n",
    "        batchSize = inputs.size(0)\n",
    "        inputs = inputs.to(device)\n",
    "\n",
    "\n",
    "        ### Treinamento do Gerador\n",
    "\n",
    "        mGenOptimizer.zero_grad()\n",
    "\n",
    "        #Criação do Ruído\n",
    "        noise = np.random.uniform(low=-1., high=1., size=(batchSize, 100))\n",
    "        noise = torch.from_numpy(noise).float().to(device)\n",
    "\n",
    "        # Geração das Imagens\n",
    "        fakeImages = modelGenerate.forward(noise)\n",
    "\n",
    "        # Avalia a capacidade do model Gerador de criar imagens semelhantes as \n",
    "        # imagens reais (Ao ponto do modelo Discriminador ter a saída mais próxima de 1)\n",
    "        fakeOutput = modelDiscriminate.forward(fakeImages)\n",
    "\n",
    "        fakeLabel = torch.ones(24).to(device)\n",
    "\n",
    "        GenLoss = criterion(fakeOutput.view(*fakeLabel.shape), fakeLabel)\n",
    "        GenLoss.backward()\n",
    "        mGenOptimizer.step()\n",
    "\n",
    "        ### Treinamento do Discriminador\n",
    "\n",
    "        # Treina o modelo Discriminador com a imagem atual\n",
    "        realOutputs = modelDiscriminate.forward(inputs)\n",
    "        realLabels = (torch.ones(batchSize) * 0.9).to(device)\n",
    "\n",
    "        DisLossReal = criterion(realOutputs.view(*realLabels.shape), realLabels)\n"
   ]
  }
 ],
 "metadata": {
  "kernelspec": {
   "display_name": "ic",
   "language": "python",
   "name": "python3"
  },
  "language_info": {
   "codemirror_mode": {
    "name": "ipython",
    "version": 3
   },
   "file_extension": ".py",
   "mimetype": "text/x-python",
   "name": "python",
   "nbconvert_exporter": "python",
   "pygments_lexer": "ipython3",
   "version": "3.9.19"
  }
 },
 "nbformat": 4,
 "nbformat_minor": 2
}
